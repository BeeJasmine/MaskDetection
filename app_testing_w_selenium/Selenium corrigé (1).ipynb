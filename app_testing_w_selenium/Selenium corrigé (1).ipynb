{
 "cells": [
  {
   "cell_type": "code",
   "execution_count": 1,
   "metadata": {},
   "outputs": [],
   "source": [
    "import selenium\n",
    "from selenium import webdriver\n",
    "from selenium.webdriver.common.keys import Keys\n",
    "from selenium.webdriver.common.action_chains import ActionChains\n",
    "from selenium import webdriver\n",
    "from webdriver_manager.chrome import ChromeDriverManager\n",
    "from selenium import webdriver\n",
    "browser = webdriver.Firefox(executable_path='/home/jasminelabeille/Bureau/MaskWearingOrNot/drivers/geckodriver')\n",
    "\n",
    "\n",
    "#browser = webdriver.Chrome(executable_path='C:\\ChromeDriver\\chromedriver.exe')# le path ici est le chemin vers le dossier ou se trouve le chrome driver qu'ona a télécharger \n",
    "# browser = webdriver.Firefox(executable_path='C:/path/to/geckodriver.exe') au cas où geckdriver.exe n'est pas dans le path ni au même endroit\n",
    "browser.get('https://m.europages.fr/')\n"
   ]
  },
  {
   "cell_type": "code",
   "execution_count": null,
   "metadata": {},
   "outputs": [],
   "source": []
  },
  {
   "cell_type": "code",
   "execution_count": 2,
   "metadata": {},
   "outputs": [
    {
     "name": "stdout",
     "output_type": "stream",
     "text": [
      "you have no longer page to iterate\n"
     ]
    }
   ],
   "source": [
    "import time \n",
    "from selenium.common.exceptions import NoSuchElementException\n",
    "\n",
    "while True:\n",
    "    try:\n",
    "        browser.execute_script(\"window.scrollTo(0,document.body.scrollHeight)\")\n",
    "        time.sleep(0.3)\n",
    "        arrow = browser.find_element_by_css_selector('[title=\"Page suivante\"]')\n",
    "        arrow.click()\n",
    "\n",
    "    except NoSuchElementException :\n",
    "        print(\"you have no longer page to iterate\")\n",
    "        break"
   ]
  },
  {
   "cell_type": "code",
   "execution_count": null,
   "metadata": {},
   "outputs": [],
   "source": []
  },
  {
   "cell_type": "code",
   "execution_count": 3,
   "metadata": {},
   "outputs": [],
   "source": [
    "list_company_names= browser.find_elements_by_class_name('company-name')\n",
    "# [la.text for la in list_company_names]\n",
    "for i in range(len(list_company_names)):\n",
    "    list_company_names = browser.find_elements_by_class_name('company-name')\n",
    "    print(list_company_names[i].text)\n",
    "    browser.execute_script(\"arguments[0].scrollIntoView();\", list_company_names[i])\n",
    "    list_company_names[i].click()\n",
    "    time.sleep(2)\n",
    "    browser.back()\n",
    "    time.sleep(2)"
   ]
  },
  {
   "cell_type": "code",
   "execution_count": 7,
   "metadata": {},
   "outputs": [
    {
     "data": {
      "text/plain": [
       "'jas@be.com'"
      ]
     },
     "execution_count": 7,
     "metadata": {},
     "output_type": "execute_result"
    }
   ],
   "source": [
    "import re\n",
    "toaddr = \"hey jas@be.com\"\n",
    "match = re.findall(r'[\\w\\.-]+@[\\w\\.-]+', toaddr)\n",
    "match[0]"
   ]
  },
  {
   "cell_type": "code",
   "execution_count": null,
   "metadata": {},
   "outputs": [],
   "source": []
  },
  {
   "cell_type": "code",
   "execution_count": null,
   "metadata": {},
   "outputs": [],
   "source": []
  }
 ],
 "metadata": {
  "kernelspec": {
   "display_name": "Python 3",
   "language": "python",
   "name": "python3"
  },
  "language_info": {
   "codemirror_mode": {
    "name": "ipython",
    "version": 3
   },
   "file_extension": ".py",
   "mimetype": "text/x-python",
   "name": "python",
   "nbconvert_exporter": "python",
   "pygments_lexer": "ipython3",
   "version": "3.8.10"
  }
 },
 "nbformat": 4,
 "nbformat_minor": 2
}
